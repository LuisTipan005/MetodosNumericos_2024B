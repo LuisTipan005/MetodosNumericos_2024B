{
 "cells": [
  {
   "cell_type": "raw",
   "id": "e3099a20-4cc9-4a55-ad88-e17d23d70e28",
   "metadata": {},
   "source": [
    "---\n",
    "title: \"Ejercicios: Algoritmos y convergencia\"\n",
    "author: \"Luis Tipan\"\n",
    "lang: es\n",
    "format: \n",
    "  pdf:\n",
    "    toc: false\n",
    "execute:\n",
    "  output-format: console\n",
    "  echo: true\n",
    "  error: true\n",
    "  warning: false\n",
    "jupyter: python3\n",
    "---"
   ]
  },
  {
   "cell_type": "markdown",
   "id": "75f678c1-ad6f-4d64-96ad-36ba542ad688",
   "metadata": {},
   "source": [
    "2. La serie de Macalurin para la función arcotangente converge para $-1< x \\le 1$ y está dada por $\\arctan x = \\lim_{n \\to \\infty} P_n(x) = \\lim_{n \\to \\infty} \\sum_{i=1}^{n} (-1)^{i+1} \\frac{x^{2i-1}}{2i-1} $"
   ]
  },
  {
   "cell_type": "markdown",
   "id": "921ac453-f57f-4386-93f7-538133c17c20",
   "metadata": {},
   "source": [
    "a) Utilice el hecho de que $\\tan \\frac{\\pi}{4}=1$ para determinar el número n de términos de la serie que se necesita sumar para garantizar que $\\left|4P_n(1)-\\pi \\right|<10^{-3}$"
   ]
  },
  {
   "cell_type": "markdown",
   "id": "283e6732-9e1b-4a88-9960-88e8ce3071da",
   "metadata": {},
   "source": [
    "Partiendo de $\\tan \\frac{\\pi}{4}=1$, obtenemos:\n",
    "$\\arctan (1)=\\frac{pi}{4}$\n",
    "\n",
    "Por Maclaurin:\n",
    "\n",
    "$\\arctan (1)= \\sum{i=1}^{n} (-1)^{i+1}\\frac{1^{2i-1}}{2i-1}$\n",
    "\n",
    "$P_n(1)=\\sum{i=1}^{n}(-1)^{i+1}\\frac{1}{2i-1}$\n",
    "\n",
    "Se da valores a n para garantizar\n",
    "\n",
    "$\\left|4P_n(1)-pi \\right|<10^{-3}$"
   ]
  },
  {
   "cell_type": "code",
   "execution_count": 4,
   "id": "21b380ee-a0fd-41d0-af77-ca034adb189d",
   "metadata": {},
   "outputs": [
    {
     "name": "stdout",
     "output_type": "stream",
     "text": [
      "Cantidad mínima de términos: 1001\n",
      "Valor aproximado de π: 3.140592653839794\n",
      "Error absoluto: 0.000999999749998981\n"
     ]
    }
   ],
   "source": [
    "import math\n",
    "\n",
    "def calcular_nuevo_n():\n",
    "    n = 1\n",
    "    suma = 0.0\n",
    "    error = float('inf')\n",
    "    pi_real = math.pi\n",
    "    while error >= 1e-3:\n",
    "        suma += (-1)**(n + 1) / (2 * n - 1)\n",
    "        pi_aproximado = 4 * suma\n",
    "        error = abs(pi_real - pi_aproximado)\n",
    "        n += 1\n",
    "    return n, pi_aproximado, error\n",
    "\n",
    "n, pi_aproximado, error = calcular_nuevo_n()\n",
    "print(f\"Cantidad mínima de términos: {n}\")\n",
    "print(f\"Valor aproximado de π: {pi_aproximado}\")\n",
    "print(f\"Error absoluto: {error}\")\n"
   ]
  },
  {
   "cell_type": "markdown",
   "id": "b0c1f639-3ab2-4464-bf50-83f3eb70a5f4",
   "metadata": {},
   "source": [
    "b) El lenguaje de programación c++ requiere que el valor $\\pi$ se encuentre dentro de $10^{-10}$.  ¿Cuántos términos de la serie se necesitarían sumar para obtener este grado de presición?\n",
    "\n",
    "A partir del enunciado anterior |\n",
    "$4*\\sum_{i=1}^{n}(-1)^{i+1}\\frac{1}{2i-1}=\\pi$"
   ]
  },
  {
   "cell_type": "code",
   "execution_count": 6,
   "id": "b00f0653-7277-42df-aa0f-e2e28e49f28d",
   "metadata": {},
   "outputs": [
    {
     "name": "stdout",
     "output_type": "stream",
     "text": [
      "Se requirieron 501 términos para obtener 10 decimales.\n",
      "Valor aproximado de π: 3.139592655589785\n",
      "Valor exacto de π: 3.141592653589793\n"
     ]
    }
   ],
   "source": [
    "import math\n",
    "\n",
    "def calcular_pi_precision(n):\n",
    "    suma = 0.0\n",
    "    for i in range(n):\n",
    "        termino = (-1)**i * (1 / (2 * i + 1))\n",
    "        suma += termino\n",
    "    return 4 * suma\n",
    "\n",
    "precision_deseada = 10\n",
    "pi_real = math.pi\n",
    "n = 1\n",
    "decimales_correctos = 0\n",
    "\n",
    "while decimales_correctos < precision_deseada:\n",
    "    aproximacion = calcular_pi_precision(n)\n",
    "    str_aprox, str_pi = f\"{aproximacion:.15f}\", f\"{pi_real:.15f}\"\n",
    "    decimales_correctos = sum(1 for a, b in zip(str_aprox[2:], str_pi[2:]) if a == b)\n",
    "    n += 1\n",
    "\n",
    "print(f\"Se requirieron {n} términos para obtener {precision_deseada} decimales.\")\n",
    "print(f\"Valor aproximado de π: {aproximacion}\")\n",
    "print(f\"Valor exacto de π: {pi_real}\")\n"
   ]
  },
  {
   "cell_type": "markdown",
   "id": "956bdbc1-85be-4fa8-b3b0-7089ca3b474f",
   "metadata": {},
   "source": [
    "3. Otra fórmula para calcular $\\pi$ se puede deducir a partir de la identidad $\\pi/4=4\\arctan\\frac{1}{5}-arctan\\frac{1}{239}$.Determine el número de términos que se deben sumar para garantizar una aproximación dentro de $10^{-3}$.\n",
    "\n",
    "Despejando $\\pi$ -> \n",
    "$\\pi=4*(4*\\arctan\\frac{1}{5}-\\arctan\\frac{1}{239})$\n",
    "\n",
    "El valor de la arcotangente se obtiene a partir de Maclaurin"
   ]
  },
  {
   "cell_type": "code",
   "execution_count": 8,
   "id": "ec44a47a-5e56-4b4e-b488-b30255ed902f",
   "metadata": {},
   "outputs": [
    {
     "name": "stdout",
     "output_type": "stream",
     "text": [
      "Términos necesarios para precisión de 10^-3: 2\n"
     ]
    }
   ],
   "source": [
    "import math\n",
    "\n",
    "def calcular_pi_modificado(n):\n",
    "    arctan1, arctan2 = 0, 0\n",
    "    for i in range(n):\n",
    "        arctan1 += (-1)**i / (5**(2 * i + 1) * (2 * i + 1))\n",
    "        arctan2 += (-1)**i / (239**(2 * i + 1) * (2 * i + 1))\n",
    "    return 4 * (4 * arctan1 - arctan2)\n",
    "\n",
    "precision_deseada = 3\n",
    "n = 1\n",
    "pi_real = math.pi\n",
    "\n",
    "while abs(calcular_pi_modificado(n) - pi_real) >= 10**-precision_deseada:\n",
    "    n += 1\n",
    "\n",
    "print(f\"Términos necesarios para precisión de 10^-{precision_deseada}: {n}\")\n"
   ]
  },
  {
   "attachments": {},
   "cell_type": "markdown",
   "id": "8e86ba65-0ea4-4d7c-bc42-0926ab0889f5",
   "metadata": {},
   "source": [
    "5. ¿Cuántas multiplicaciones y sumas se requieren para determinar una suma de la forma $\\sum_{i=1}^{n}\\sum_{j=1}^{i}a_ib_j$?\n",
    "\n",
    "Para un valor dado de i, j toma valores de 1 hasta i, por lo que se realizan i multiplicaciones, dando que en total se realizarán $\\sum_{i=1}^{n}i=\\frac{n(n+1)}{2}$, siendo esta la cantidad de veces que se realiza la multiplicación."
   ]
  },
  {
   "cell_type": "code",
   "execution_count": 14,
   "id": "6c687e5c-e049-4aab-a4c9-f92b41cad8fa",
   "metadata": {},
   "outputs": [
    {
     "name": "stdout",
     "output_type": "stream",
     "text": [
      "Multiplicaciones totales para n=5: 15\n"
     ]
    }
   ],
   "source": [
    "n = 5\n",
    "multiplicaciones_totales = sum(i for i in range(1, n + 1))\n",
    "print(f\"Multiplicaciones totales para n={n}: {multiplicaciones_totales}\")\n"
   ]
  },
  {
   "cell_type": "markdown",
   "id": "3de69cc3-814b-40ef-b713-eab827b23940",
   "metadata": {},
   "source": [
    "## Discuciones\n",
    "\n",
    "2. Las ecuaciones(1.2) y (1.3) en la sección 1.2 proporcionan formas alternativas para las raíces. $x_1$ y $x_2$ de $ax^2+bx+c=0$.Construya un algoritmo con entrada a,b,c y salida x_1,x_2 que calcule las raíces $x_1$ y $x_2$ (que pueden ser iguales con conjugados complejos) mediante la mejor fórmula para cada raíz"
   ]
  },
  {
   "cell_type": "markdown",
   "id": "55e796fe-74cd-4663-bd8b-136b8fe926f7",
   "metadata": {},
   "source": [
    "**GitHub:** "
   ]
  }
 ],
 "metadata": {
  "kernelspec": {
   "display_name": "Python 3 (ipykernel)",
   "language": "python",
   "name": "python3"
  },
  "language_info": {
   "codemirror_mode": {
    "name": "ipython",
    "version": 3
   },
   "file_extension": ".py",
   "mimetype": "text/x-python",
   "name": "python",
   "nbconvert_exporter": "python",
   "pygments_lexer": "ipython3",
   "version": "3.12.4"
  }
 },
 "nbformat": 4,
 "nbformat_minor": 5
}
